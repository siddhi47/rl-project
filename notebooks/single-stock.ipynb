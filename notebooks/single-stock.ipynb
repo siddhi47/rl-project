{
 "cells": [
  {
   "cell_type": "markdown",
   "id": "5d73ec67-f969-48b1-815a-2c400e5a325e",
   "metadata": {},
   "source": [
    "## Import Libraries"
   ]
  },
  {
   "cell_type": "code",
   "execution_count": 1,
   "id": "16d4df42-c97e-4139-b10a-e1dddf04641d",
   "metadata": {
    "tags": []
   },
   "outputs": [
    {
     "name": "stdout",
     "output_type": "stream",
     "text": [
      "Collecting pandas_ta\n",
      "  Downloading pandas_ta-0.3.14b.tar.gz (115 kB)\n",
      "\u001b[2K     \u001b[90m━━━━━━━━━━━━━━━━━━━━━━━━━━━━━━━━━━━━━\u001b[0m \u001b[32m115.1/115.1 kB\u001b[0m \u001b[31m768.4 kB/s\u001b[0m eta \u001b[36m0:00:00\u001b[0m00:01\u001b[0m00:01\u001b[0m\n",
      "\u001b[?25h  Preparing metadata (setup.py) ... \u001b[?25ldone\n",
      "\u001b[?25hRequirement already satisfied: pandas in /opt/conda/envs/py39/lib/python3.9/site-packages (from pandas_ta) (2.0.0)\n",
      "Requirement already satisfied: numpy>=1.20.3 in /opt/conda/envs/py39/lib/python3.9/site-packages (from pandas->pandas_ta) (1.24.3)\n",
      "Requirement already satisfied: tzdata>=2022.1 in /opt/conda/envs/py39/lib/python3.9/site-packages (from pandas->pandas_ta) (2023.3)\n",
      "Requirement already satisfied: pytz>=2020.1 in /opt/conda/envs/py39/lib/python3.9/site-packages (from pandas->pandas_ta) (2023.3)\n",
      "Requirement already satisfied: python-dateutil>=2.8.2 in /opt/conda/envs/py39/lib/python3.9/site-packages (from pandas->pandas_ta) (2.8.2)\n",
      "Requirement already satisfied: six>=1.5 in /opt/conda/envs/py39/lib/python3.9/site-packages (from python-dateutil>=2.8.2->pandas->pandas_ta) (1.16.0)\n",
      "Building wheels for collected packages: pandas_ta\n",
      "  Building wheel for pandas_ta (setup.py) ... \u001b[?25ldone\n",
      "\u001b[?25h  Created wheel for pandas_ta: filename=pandas_ta-0.3.14b0-py3-none-any.whl size=218908 sha256=7d054c73f506e3bccba3295112a90dc9e1d6c84588a5d4e26bd6af9cd7e21576\n",
      "  Stored in directory: /root/.cache/pip/wheels/1e/5c/47/759b32beb377aee150eb4c1f1b2b7635032cc19ea09ce076fd\n",
      "Successfully built pandas_ta\n",
      "Installing collected packages: pandas_ta\n",
      "Successfully installed pandas_ta-0.3.14b0\n",
      "\u001b[33mWARNING: Running pip as the 'root' user can result in broken permissions and conflicting behaviour with the system package manager. It is recommended to use a virtual environment instead: https://pip.pypa.io/warnings/venv\u001b[0m\u001b[33m\n",
      "\u001b[0m"
     ]
    }
   ],
   "source": [
    "! /opt/conda/envs/py39/bin/python -m pip install pandas_ta"
   ]
  },
  {
   "cell_type": "code",
   "execution_count": 2,
   "id": "73293a97-4cfe-412b-a7f8-050f85b4ceb2",
   "metadata": {
    "tags": []
   },
   "outputs": [],
   "source": [
    "import gym\n",
    "import pandas as pd\n",
    "import yfinance as yf\n",
    "import matplotlib.pyplot as plt\n",
    "import pandas_ta as ta\n",
    "from stockstats import StockDataFrame as Sdf\n",
    "from finrl.agents.stablebaselines3.models import A2C\n",
    "\n",
    "from finrl.agents.stablebaselines3.models import DummyVecEnv\n",
    "from sklearn.preprocessing import StandardScaler"
   ]
  },
  {
   "cell_type": "markdown",
   "id": "56bf72eb-5b4b-4991-959e-ac62d5ec528c",
   "metadata": {},
   "source": [
    "## Importing local modules"
   ]
  },
  {
   "cell_type": "code",
   "execution_count": 3,
   "id": "9ac69950-6297-41cf-b41d-e05fdf4cc0ad",
   "metadata": {
    "tags": []
   },
   "outputs": [],
   "source": [
    "import os\n",
    "import sys\n",
    "sys.path.append('../')\n",
    "from src.rl_env.stock import SingleStockEnv\n",
    "from src.models.models import RLModels\n",
    "from src.data.make_dataset import download_stock_data"
   ]
  },
  {
   "cell_type": "code",
   "execution_count": 4,
   "id": "bb931d60-e812-421d-9d20-2a354d7d61ad",
   "metadata": {
    "tags": []
   },
   "outputs": [],
   "source": [
    "#Diable the warnings\n",
    "import warnings\n",
    "warnings.filterwarnings('ignore')"
   ]
  },
  {
   "cell_type": "code",
   "execution_count": 5,
   "id": "4b4dae8a-c707-4599-b698-c54fc10fd05c",
   "metadata": {
    "tags": []
   },
   "outputs": [],
   "source": [
    "data_df = pd.read_csv('../data/snp.csv')[['Date','Close']].rename({'Date':'date','Close':'adjcp'}, axis = 1)"
   ]
  },
  {
   "cell_type": "code",
   "execution_count": 6,
   "id": "8984dcf8-7567-4bfb-a2e7-cd1fd764c08d",
   "metadata": {
    "tags": []
   },
   "outputs": [
    {
     "data": {
      "text/html": [
       "<div>\n",
       "<style scoped>\n",
       "    .dataframe tbody tr th:only-of-type {\n",
       "        vertical-align: middle;\n",
       "    }\n",
       "\n",
       "    .dataframe tbody tr th {\n",
       "        vertical-align: top;\n",
       "    }\n",
       "\n",
       "    .dataframe thead th {\n",
       "        text-align: right;\n",
       "    }\n",
       "</style>\n",
       "<table border=\"1\" class=\"dataframe\">\n",
       "  <thead>\n",
       "    <tr style=\"text-align: right;\">\n",
       "      <th></th>\n",
       "      <th>date</th>\n",
       "      <th>adjcp</th>\n",
       "    </tr>\n",
       "  </thead>\n",
       "  <tbody>\n",
       "    <tr>\n",
       "      <th>0</th>\n",
       "      <td>2017-08-17</td>\n",
       "      <td>2430.01</td>\n",
       "    </tr>\n",
       "    <tr>\n",
       "      <th>1</th>\n",
       "      <td>2017-08-18</td>\n",
       "      <td>2425.55</td>\n",
       "    </tr>\n",
       "    <tr>\n",
       "      <th>2</th>\n",
       "      <td>2017-08-19</td>\n",
       "      <td>2425.55</td>\n",
       "    </tr>\n",
       "    <tr>\n",
       "      <th>3</th>\n",
       "      <td>2017-08-20</td>\n",
       "      <td>2425.55</td>\n",
       "    </tr>\n",
       "    <tr>\n",
       "      <th>4</th>\n",
       "      <td>2017-08-21</td>\n",
       "      <td>2428.37</td>\n",
       "    </tr>\n",
       "    <tr>\n",
       "      <th>...</th>\n",
       "      <td>...</td>\n",
       "      <td>...</td>\n",
       "    </tr>\n",
       "    <tr>\n",
       "      <th>2049</th>\n",
       "      <td>2023-03-25</td>\n",
       "      <td>3970.99</td>\n",
       "    </tr>\n",
       "    <tr>\n",
       "      <th>2050</th>\n",
       "      <td>2023-03-26</td>\n",
       "      <td>3970.99</td>\n",
       "    </tr>\n",
       "    <tr>\n",
       "      <th>2051</th>\n",
       "      <td>2023-03-27</td>\n",
       "      <td>3977.53</td>\n",
       "    </tr>\n",
       "    <tr>\n",
       "      <th>2052</th>\n",
       "      <td>2023-03-28</td>\n",
       "      <td>3971.27</td>\n",
       "    </tr>\n",
       "    <tr>\n",
       "      <th>2053</th>\n",
       "      <td>2023-03-29</td>\n",
       "      <td>4027.81</td>\n",
       "    </tr>\n",
       "  </tbody>\n",
       "</table>\n",
       "<p>2054 rows × 2 columns</p>\n",
       "</div>"
      ],
      "text/plain": [
       "            date    adjcp\n",
       "0     2017-08-17  2430.01\n",
       "1     2017-08-18  2425.55\n",
       "2     2017-08-19  2425.55\n",
       "3     2017-08-20  2425.55\n",
       "4     2017-08-21  2428.37\n",
       "...          ...      ...\n",
       "2049  2023-03-25  3970.99\n",
       "2050  2023-03-26  3970.99\n",
       "2051  2023-03-27  3977.53\n",
       "2052  2023-03-28  3971.27\n",
       "2053  2023-03-29  4027.81\n",
       "\n",
       "[2054 rows x 2 columns]"
      ]
     },
     "execution_count": 6,
     "metadata": {},
     "output_type": "execute_result"
    }
   ],
   "source": [
    "data_df"
   ]
  },
  {
   "cell_type": "code",
   "execution_count": 7,
   "id": "13092b80-f57d-42c0-92fe-503f2a70b705",
   "metadata": {
    "tags": []
   },
   "outputs": [],
   "source": [
    "data_df['rsi'] = ta.rsi(data_df['adjcp'])"
   ]
  },
  {
   "cell_type": "code",
   "execution_count": 8,
   "id": "2eceb766-0a03-4b4c-aa0b-1987a24597cd",
   "metadata": {
    "tags": []
   },
   "outputs": [],
   "source": [
    "data_df['macd'] = ta.macd(data_df['adjcp'])['MACD_12_26_9']"
   ]
  },
  {
   "cell_type": "code",
   "execution_count": 9,
   "id": "73cd7ec8-a045-4c26-bbce-5df329344ad4",
   "metadata": {
    "tags": []
   },
   "outputs": [],
   "source": [
    "data_df.fillna(0, inplace=True)"
   ]
  },
  {
   "cell_type": "code",
   "execution_count": 10,
   "id": "0f02b250-1ce0-48fe-a527-cb22efd7041c",
   "metadata": {
    "tags": []
   },
   "outputs": [],
   "source": [
    "data_clean = data_df.copy()"
   ]
  },
  {
   "cell_type": "code",
   "execution_count": 11,
   "id": "30075671-1095-4c97-a9ce-9e0d24869f8c",
   "metadata": {
    "tags": []
   },
   "outputs": [],
   "source": [
    "train = data_clean[(data_clean.date>='2017-08-17') & (data_clean.date<'2022-03-29')]\n",
    "# the index needs to start from 0\n",
    "train=train.reset_index(drop=True)\n"
   ]
  },
  {
   "cell_type": "code",
   "execution_count": 12,
   "id": "a76536a1-cf60-4bc8-9f01-6f4c87f7454d",
   "metadata": {
    "tags": []
   },
   "outputs": [],
   "source": [
    "model_list = ['ddpg','ppo','a2c']"
   ]
  },
  {
   "cell_type": "code",
   "execution_count": null,
   "id": "c59fa602-312a-4b8f-ae66-850bcf8d2b03",
   "metadata": {
    "tags": []
   },
   "outputs": [
    {
     "name": "stdout",
     "output_type": "stream",
     "text": [
      "============================== ddpg ==============================\n",
      "previous_total_asset:100000\n",
      "end_total_asset:169362.48465048565\n",
      "total_reward:69362.48465048565\n",
      "total_cost:  2614.959069058009\n",
      "total trades:  1672\n",
      "Sharpe:  0.5501851069649215\n",
      "previous_total_asset:100000\n",
      "end_total_asset:187866.27959000002\n",
      "total_reward:87866.27959000002\n",
      "total_cost:  99.63041000000001\n",
      "total trades:  1686\n",
      "Sharpe:  0.6421388187269103\n",
      "previous_total_asset:100000\n",
      "end_total_asset:187866.27959000002\n",
      "total_reward:87866.27959000002\n",
      "total_cost:  99.63041000000001\n",
      "total trades:  1686\n",
      "Sharpe:  0.6421388187269103\n",
      "previous_total_asset:100000\n",
      "end_total_asset:187866.27959000002\n",
      "total_reward:87866.27959000002\n",
      "total_cost:  99.63041000000001\n",
      "total trades:  1686\n",
      "Sharpe:  0.6421388187269103\n",
      "previous_total_asset:100000\n",
      "end_total_asset:187866.27959000002\n",
      "total_reward:87866.27959000002\n",
      "total_cost:  99.63041000000001\n",
      "total trades:  1686\n",
      "Sharpe:  0.6421388187269103\n",
      "previous_total_asset:100000\n",
      "end_total_asset:187866.27959000002\n",
      "total_reward:87866.27959000002\n",
      "total_cost:  99.63041000000001\n",
      "total trades:  1686\n",
      "Sharpe:  0.6421388187269103\n",
      "previous_total_asset:100000\n",
      "end_total_asset:187866.27959000002\n",
      "total_reward:87866.27959000002\n",
      "total_cost:  99.63041000000001\n",
      "total trades:  1686\n",
      "Sharpe:  0.6421388187269103\n",
      "previous_total_asset:100000\n",
      "end_total_asset:187866.27959000002\n",
      "total_reward:87866.27959000002\n",
      "total_cost:  99.63041000000001\n",
      "total trades:  1686\n",
      "Sharpe:  0.6421388187269103\n",
      "previous_total_asset:100000\n",
      "end_total_asset:187866.27959000002\n",
      "total_reward:87866.27959000002\n",
      "total_cost:  99.63041000000001\n",
      "total trades:  1686\n",
      "Sharpe:  0.6421388187269103\n",
      "previous_total_asset:100000\n",
      "end_total_asset:187866.27959000002\n",
      "total_reward:87866.27959000002\n",
      "total_cost:  99.63041000000001\n",
      "total trades:  1686\n",
      "Sharpe:  0.6421388187269103\n",
      "previous_total_asset:100000\n",
      "end_total_asset:187866.27959000002\n",
      "total_reward:87866.27959000002\n",
      "total_cost:  99.63041000000001\n",
      "total trades:  1686\n",
      "Sharpe:  0.6421388187269103\n",
      "previous_total_asset:100000\n",
      "end_total_asset:187866.27959000002\n",
      "total_reward:87866.27959000002\n",
      "total_cost:  99.63041000000001\n",
      "total trades:  1686\n",
      "Sharpe:  0.6421388187269103\n",
      "previous_total_asset:100000\n",
      "end_total_asset:187866.27959000002\n",
      "total_reward:87866.27959000002\n",
      "total_cost:  99.63041000000001\n",
      "total trades:  1686\n",
      "Sharpe:  0.6421388187269103\n",
      "previous_total_asset:100000\n",
      "end_total_asset:187866.27959000002\n",
      "total_reward:87866.27959000002\n",
      "total_cost:  99.63041000000001\n",
      "total trades:  1686\n",
      "Sharpe:  0.6421388187269103\n",
      "previous_total_asset:100000\n",
      "end_total_asset:187866.27959000002\n",
      "total_reward:87866.27959000002\n",
      "total_cost:  99.63041000000001\n",
      "total trades:  1686\n",
      "Sharpe:  0.6421388187269103\n",
      "previous_total_asset:100000\n",
      "end_total_asset:187866.27959000002\n",
      "total_reward:87866.27959000002\n",
      "total_cost:  99.63041000000001\n",
      "total trades:  1686\n",
      "Sharpe:  0.6421388187269103\n",
      "previous_total_asset:100000\n",
      "end_total_asset:187866.27959000002\n",
      "total_reward:87866.27959000002\n",
      "total_cost:  99.63041000000001\n",
      "total trades:  1686\n",
      "Sharpe:  0.6421388187269103\n",
      "previous_total_asset:100000\n",
      "end_total_asset:187866.27959000002\n",
      "total_reward:87866.27959000002\n",
      "total_cost:  99.63041000000001\n",
      "total trades:  1686\n",
      "Sharpe:  0.6421388187269103\n",
      "previous_total_asset:100000\n",
      "end_total_asset:187866.27959000002\n",
      "total_reward:87866.27959000002\n",
      "total_cost:  99.63041000000001\n",
      "total trades:  1686\n",
      "Sharpe:  0.6421388187269103\n",
      "previous_total_asset:100000\n",
      "end_total_asset:187866.27959000002\n",
      "total_reward:87866.27959000002\n",
      "total_cost:  99.63041000000001\n",
      "total trades:  1686\n",
      "Sharpe:  0.6421388187269103\n",
      "previous_total_asset:100000\n",
      "end_total_asset:187866.27959000002\n",
      "total_reward:87866.27959000002\n",
      "total_cost:  99.63041000000001\n",
      "total trades:  1686\n",
      "Sharpe:  0.6421388187269103\n",
      "previous_total_asset:100000\n",
      "end_total_asset:187866.27959000002\n",
      "total_reward:87866.27959000002\n",
      "total_cost:  99.63041000000001\n",
      "total trades:  1686\n",
      "Sharpe:  0.6421388187269103\n",
      "previous_total_asset:100000\n",
      "end_total_asset:187866.27959000002\n",
      "total_reward:87866.27959000002\n",
      "total_cost:  99.63041000000001\n",
      "total trades:  1686\n",
      "Sharpe:  0.6421388187269103\n",
      "previous_total_asset:100000\n",
      "end_total_asset:187866.27959000002\n",
      "total_reward:87866.27959000002\n",
      "total_cost:  99.63041000000001\n",
      "total trades:  1686\n",
      "Sharpe:  0.6421388187269103\n"
     ]
    }
   ],
   "source": [
    "model_dict = {}\n",
    "for m in model_list:\n",
    "    print(30*\"=\", m, 30*\"=\")\n",
    "    env_train = DummyVecEnv([lambda: SingleStockEnv(train,feat_list=['macd','rsi'])])\n",
    "    model = RLModels(m, env_train)\n",
    "    model.train(total_timesteps=200000)\n",
    "    model.save('AAPL_ppo_100k')\n",
    "    model_dict.update({m:model})"
   ]
  },
  {
   "cell_type": "code",
   "execution_count": null,
   "id": "be527011-073c-4759-81b2-917fa4aa4125",
   "metadata": {
    "tags": []
   },
   "outputs": [],
   "source": [
    "test = data_clean[(data_clean.date>='2022-03-29') ]\n",
    "# the index needs to start from 0\n",
    "test=test.reset_index(drop=True)"
   ]
  },
  {
   "cell_type": "markdown",
   "id": "e8cf65ea-16ca-48b3-8475-38c775594d53",
   "metadata": {},
   "source": [
    "### Testing"
   ]
  },
  {
   "cell_type": "code",
   "execution_count": null,
   "id": "7ddb8c20-0d19-431b-b4af-662153214295",
   "metadata": {
    "tags": []
   },
   "outputs": [],
   "source": [
    "def get_DRL_sharpe():\n",
    "    df_total_value=pd.read_csv('account_value.csv',index_col=0)\n",
    "    df_total_value.columns = ['account_value']\n",
    "    df_total_value['daily_return']=df_total_value.pct_change(1)\n",
    "    sharpe = (252**0.5)*df_total_value['daily_return'].mean()/ \\ # 252 trading days\n",
    "    df_total_value['daily_return'].std()\n",
    "    \n",
    "    annual_return = ((df_total_value['daily_return'].mean()+1)**252-1)*100\n",
    "    print(\"annual return: \", annual_return)\n",
    "    print(\"sharpe ratio: \", sharpe)\n",
    "    return df_total_value"
   ]
  },
  {
   "cell_type": "code",
   "execution_count": null,
   "id": "ab7448fb-1093-4d47-9281-df4d6c7439ef",
   "metadata": {
    "tags": []
   },
   "outputs": [],
   "source": [
    "cum_return = {}\n",
    "for m in model_list:\n",
    "    model = model_dict[m]\n",
    "    env_test = DummyVecEnv([lambda: SingleStockEnv(test,feat_list=['macd','rsi'])])\n",
    "    obs_test = env_test.reset()\n",
    "    print(\"==============Model Prediction===========\")\n",
    "    for i in range(len(test.index.unique())):\n",
    "        \n",
    "        action, _states = model.predict(obs_test)\n",
    "        obs_test, rewards, dones, info = env_test.step(action)\n",
    "        env_test.render()\n",
    "    df_total_value=pd.read_csv('account_value.csv',index_col=0)\n",
    "    df_total_value.columns = ['account_value']\n",
    "    df_total_value['daily_return']=df_total_value.pct_change(1)\n",
    "    \n",
    "    cum_return.update({m: (df_total_value.account_value.pct_change(1)+1).cumprod()-1})"
   ]
  },
  {
   "cell_type": "code",
   "execution_count": null,
   "id": "5394404d-692b-4c1d-8a2d-c34e259d52ed",
   "metadata": {
    "tags": []
   },
   "outputs": [],
   "source": [
    "\n",
    "%matplotlib inline\n",
    "fig, ax = plt.subplots(figsize=(12, 8))\n",
    "\n",
    "plt.plot(test.date, cum_return['ppo'], color='red',label = \"PPO\")\n",
    "plt.plot(test.date, cum_return['a2c'], label = \"A2C\")\n",
    "plt.plot(test.date, cum_return['ddpg'], color = 'green', label = \"DDPG\")\n",
    "\n",
    "plt.title(\"Cumulative Return for PPO and A2C with Transaction Cost\",size= 18)\n",
    "plt.legend()\n",
    "plt.rc('legend',fontsize=15)\n",
    "plt.rc('xtick', labelsize=15)\n",
    "plt.rc('ytick', labelsize=15)\n",
    "\n"
   ]
  },
  {
   "cell_type": "markdown",
   "id": "c3a923d0-c36a-40e4-aa2f-f19246ee3ebd",
   "metadata": {},
   "source": [
    "## With correlation"
   ]
  },
  {
   "cell_type": "code",
   "execution_count": null,
   "id": "b61d34df-1e4c-44f7-a9a1-de856df1f084",
   "metadata": {},
   "outputs": [],
   "source": [
    "bit_cor_df = pd.read_csv('../data/SnP_bit_corr.csv', usecols=['Date','correlation']).rename({'Date':'date', 'correlation':'cor_bit'}, axis = 1)"
   ]
  },
  {
   "cell_type": "code",
   "execution_count": null,
   "id": "30fde273-56af-4d26-be69-f5fdda47ce86",
   "metadata": {
    "tags": []
   },
   "outputs": [],
   "source": [
    "eth_cor_df = pd.read_csv('../data/SnP_eth_corr.csv', usecols=['Date','correlation']).rename({'Date':'date', 'correlation':'cor_eth'}, axis = 1)"
   ]
  },
  {
   "cell_type": "code",
   "execution_count": null,
   "id": "3d38c579-4cf3-433e-be0e-f2f6c62f817b",
   "metadata": {
    "tags": []
   },
   "outputs": [],
   "source": [
    "bit_cor_df"
   ]
  },
  {
   "cell_type": "code",
   "execution_count": null,
   "id": "c417fd2a-aca8-48ff-8904-1dbd4cf94296",
   "metadata": {
    "tags": []
   },
   "outputs": [],
   "source": [
    "df_corr = pd.concat([data_clean, bit_cor_df['cor_bit'],eth_cor_df['cor_eth']], axis = 1).dropna()"
   ]
  },
  {
   "cell_type": "code",
   "execution_count": null,
   "id": "e8eb58cd-35f0-417d-8e19-dad05590d8fb",
   "metadata": {
    "tags": []
   },
   "outputs": [],
   "source": [
    "train = df_corr[(data_clean.date>='2017-08-17') & (df_corr.date<'2022-03-29')]\n",
    "# the index needs to start from 0\n",
    "train=train.reset_index(drop=True)\n"
   ]
  },
  {
   "cell_type": "code",
   "execution_count": null,
   "id": "9b3e6683-a8ac-42a9-b825-99a41a7bd4be",
   "metadata": {
    "tags": []
   },
   "outputs": [],
   "source": [
    "model_dict = {}\n",
    "for m in model_list:\n",
    "    print(30*\"=\", m, 30*\"=\")\n",
    "    env_train = DummyVecEnv([lambda: SingleStockEnv(train,feat_list=['macd','rsi','cor_bit','cor_eth'])])\n",
    "    model = RLModels(m, env_train)\n",
    "    model.train(total_timesteps=200000)\n",
    "    model.save('AAPL_ppo_100k')\n",
    "    model_dict.update({m:model})"
   ]
  },
  {
   "cell_type": "code",
   "execution_count": null,
   "id": "cb642db1-3f29-4618-97fb-1b8573e6ef75",
   "metadata": {},
   "outputs": [],
   "source": [
    "test = df_corr[(df_corr.date>='2022-03-29') ]\n",
    "# the index needs to start from 0\n",
    "test=test.reset_index(drop=True)"
   ]
  },
  {
   "cell_type": "code",
   "execution_count": null,
   "id": "342746ab-75a9-4877-bc76-d65bcb9c8b3c",
   "metadata": {
    "tags": []
   },
   "outputs": [],
   "source": [
    "cum_return = {}\n",
    "for m in model_list:\n",
    "    model = model_dict[m]\n",
    "    env_test = DummyVecEnv([lambda: SingleStockEnv(test,feat_list=['macd','rsi'])])\n",
    "    obs_test = env_test.reset()\n",
    "    print(\"==============Model Prediction===========\")\n",
    "    for i in range(len(test.index.unique())):\n",
    "        \n",
    "        action, _states = model.predict(obs_test)\n",
    "        obs_test, rewards, dones, info = env_test.step(action)\n",
    "        env_test.render()\n",
    "    df_total_value=pd.read_csv('account_value.csv',index_col=0)\n",
    "    df_total_value.columns = ['account_value']\n",
    "    df_total_value['daily_return']=df_total_value.pct_change(1)\n",
    "    \n",
    "    cum_return.update({m: (df_total_value.account_value.pct_change(1)+1).cumprod()-1})"
   ]
  }
 ],
 "metadata": {
  "kernelspec": {
   "display_name": "py39",
   "language": "python",
   "name": "py39"
  },
  "language_info": {
   "codemirror_mode": {
    "name": "ipython",
    "version": 3
   },
   "file_extension": ".py",
   "mimetype": "text/x-python",
   "name": "python",
   "nbconvert_exporter": "python",
   "pygments_lexer": "ipython3",
   "version": "3.9.16"
  }
 },
 "nbformat": 4,
 "nbformat_minor": 5
}
