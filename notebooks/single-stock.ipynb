{
 "cells": [
  {
   "cell_type": "markdown",
   "id": "5d73ec67-f969-48b1-815a-2c400e5a325e",
   "metadata": {},
   "source": [
    "## Import Libraries"
   ]
  },
  {
   "cell_type": "code",
   "execution_count": 1,
   "id": "73293a97-4cfe-412b-a7f8-050f85b4ceb2",
   "metadata": {
    "tags": []
   },
   "outputs": [],
   "source": [
    "import gym\n",
    "import pandas as pd\n",
    "import yfinance as yf\n",
    "import matplotlib.pyplot as plt\n",
    "\n",
    "from stockstats import StockDataFrame as Sdf\n",
    "from finrl.agents.stablebaselines3.models import A2C\n",
    "\n",
    "from finrl.agents.stablebaselines3.models import DummyVecEnv\n"
   ]
  },
  {
   "cell_type": "markdown",
   "id": "56bf72eb-5b4b-4991-959e-ac62d5ec528c",
   "metadata": {},
   "source": [
    "## Importing local modules"
   ]
  },
  {
   "cell_type": "code",
   "execution_count": 2,
   "id": "9ac69950-6297-41cf-b41d-e05fdf4cc0ad",
   "metadata": {
    "tags": []
   },
   "outputs": [],
   "source": [
    "import os\n",
    "import sys\n",
    "sys.path.append('../')\n",
    "from src.rl_env.stock import SingleStockEnv\n",
    "from src.models.models import RLModels\n",
    "from src.data.make_dataset import download_stock_data"
   ]
  },
  {
   "cell_type": "code",
   "execution_count": 3,
   "id": "bb931d60-e812-421d-9d20-2a354d7d61ad",
   "metadata": {
    "tags": []
   },
   "outputs": [],
   "source": [
    "#Diable the warnings\n",
    "import warnings\n",
    "warnings.filterwarnings('ignore')"
   ]
  },
  {
   "cell_type": "code",
   "execution_count": 4,
   "id": "3a175cec-c8a4-41a9-ba23-542c8015d1fa",
   "metadata": {
    "tags": []
   },
   "outputs": [
    {
     "name": "stdout",
     "output_type": "stream",
     "text": [
      "[*********************100%***********************]  1 of 1 completed\n"
     ]
    }
   ],
   "source": [
    "# Download and save the data in a pandas DataFrame:\n",
    "data_df = download_stock_data(\"GOOGL\", start_date=\"2009-01-01\", end_date=\"2020-10-23\")"
   ]
  },
  {
   "cell_type": "code",
   "execution_count": 5,
   "id": "8a10692b-c157-4f6c-a314-7394b76f8192",
   "metadata": {
    "tags": []
   },
   "outputs": [
    {
     "data": {
      "text/html": [
       "<div>\n",
       "<style scoped>\n",
       "    .dataframe tbody tr th:only-of-type {\n",
       "        vertical-align: middle;\n",
       "    }\n",
       "\n",
       "    .dataframe tbody tr th {\n",
       "        vertical-align: top;\n",
       "    }\n",
       "\n",
       "    .dataframe thead th {\n",
       "        text-align: right;\n",
       "    }\n",
       "</style>\n",
       "<table border=\"1\" class=\"dataframe\">\n",
       "  <thead>\n",
       "    <tr style=\"text-align: right;\">\n",
       "      <th></th>\n",
       "      <th>date</th>\n",
       "      <th>open</th>\n",
       "      <th>high</th>\n",
       "      <th>low</th>\n",
       "      <th>close</th>\n",
       "      <th>adjcp</th>\n",
       "      <th>volume</th>\n",
       "    </tr>\n",
       "  </thead>\n",
       "  <tbody>\n",
       "    <tr>\n",
       "      <th>0</th>\n",
       "      <td>2009-01-02</td>\n",
       "      <td>7.722723</td>\n",
       "      <td>8.053554</td>\n",
       "      <td>7.645145</td>\n",
       "      <td>8.041041</td>\n",
       "      <td>8.041041</td>\n",
       "      <td>144275580</td>\n",
       "    </tr>\n",
       "    <tr>\n",
       "      <th>1</th>\n",
       "      <td>2009-01-05</td>\n",
       "      <td>8.033033</td>\n",
       "      <td>8.289289</td>\n",
       "      <td>7.882883</td>\n",
       "      <td>8.209459</td>\n",
       "      <td>8.209459</td>\n",
       "      <td>195364440</td>\n",
       "    </tr>\n",
       "    <tr>\n",
       "      <th>2</th>\n",
       "      <td>2009-01-06</td>\n",
       "      <td>8.332833</td>\n",
       "      <td>8.528529</td>\n",
       "      <td>8.167918</td>\n",
       "      <td>8.359860</td>\n",
       "      <td>8.359860</td>\n",
       "      <td>256750992</td>\n",
       "    </tr>\n",
       "    <tr>\n",
       "      <th>3</th>\n",
       "      <td>2009-01-07</td>\n",
       "      <td>8.216216</td>\n",
       "      <td>8.281031</td>\n",
       "      <td>7.976727</td>\n",
       "      <td>8.058308</td>\n",
       "      <td>8.058308</td>\n",
       "      <td>179600220</td>\n",
       "    </tr>\n",
       "    <tr>\n",
       "      <th>4</th>\n",
       "      <td>2009-01-08</td>\n",
       "      <td>7.964965</td>\n",
       "      <td>8.137888</td>\n",
       "      <td>7.941441</td>\n",
       "      <td>8.137888</td>\n",
       "      <td>8.137888</td>\n",
       "      <td>143883972</td>\n",
       "    </tr>\n",
       "    <tr>\n",
       "      <th>...</th>\n",
       "      <td>...</td>\n",
       "      <td>...</td>\n",
       "      <td>...</td>\n",
       "      <td>...</td>\n",
       "      <td>...</td>\n",
       "      <td>...</td>\n",
       "      <td>...</td>\n",
       "    </tr>\n",
       "    <tr>\n",
       "      <th>2968</th>\n",
       "      <td>2020-10-16</td>\n",
       "      <td>78.091499</td>\n",
       "      <td>78.885498</td>\n",
       "      <td>77.883003</td>\n",
       "      <td>78.385002</td>\n",
       "      <td>78.385002</td>\n",
       "      <td>34194000</td>\n",
       "    </tr>\n",
       "    <tr>\n",
       "      <th>2969</th>\n",
       "      <td>2020-10-19</td>\n",
       "      <td>78.796501</td>\n",
       "      <td>79.196503</td>\n",
       "      <td>76.146004</td>\n",
       "      <td>76.497498</td>\n",
       "      <td>76.497498</td>\n",
       "      <td>29734000</td>\n",
       "    </tr>\n",
       "    <tr>\n",
       "      <th>2970</th>\n",
       "      <td>2020-10-20</td>\n",
       "      <td>76.155502</td>\n",
       "      <td>78.692001</td>\n",
       "      <td>76.025002</td>\n",
       "      <td>77.554001</td>\n",
       "      <td>77.554001</td>\n",
       "      <td>41670000</td>\n",
       "    </tr>\n",
       "    <tr>\n",
       "      <th>2971</th>\n",
       "      <td>2020-10-21</td>\n",
       "      <td>78.492500</td>\n",
       "      <td>80.757004</td>\n",
       "      <td>78.357002</td>\n",
       "      <td>79.299500</td>\n",
       "      <td>79.299500</td>\n",
       "      <td>60322000</td>\n",
       "    </tr>\n",
       "    <tr>\n",
       "      <th>2972</th>\n",
       "      <td>2020-10-22</td>\n",
       "      <td>79.250000</td>\n",
       "      <td>80.670998</td>\n",
       "      <td>78.874001</td>\n",
       "      <td>80.333000</td>\n",
       "      <td>80.333000</td>\n",
       "      <td>30512000</td>\n",
       "    </tr>\n",
       "  </tbody>\n",
       "</table>\n",
       "<p>2973 rows × 7 columns</p>\n",
       "</div>"
      ],
      "text/plain": [
       "           date       open       high        low      close      adjcp   \n",
       "0    2009-01-02   7.722723   8.053554   7.645145   8.041041   8.041041  \\\n",
       "1    2009-01-05   8.033033   8.289289   7.882883   8.209459   8.209459   \n",
       "2    2009-01-06   8.332833   8.528529   8.167918   8.359860   8.359860   \n",
       "3    2009-01-07   8.216216   8.281031   7.976727   8.058308   8.058308   \n",
       "4    2009-01-08   7.964965   8.137888   7.941441   8.137888   8.137888   \n",
       "...         ...        ...        ...        ...        ...        ...   \n",
       "2968 2020-10-16  78.091499  78.885498  77.883003  78.385002  78.385002   \n",
       "2969 2020-10-19  78.796501  79.196503  76.146004  76.497498  76.497498   \n",
       "2970 2020-10-20  76.155502  78.692001  76.025002  77.554001  77.554001   \n",
       "2971 2020-10-21  78.492500  80.757004  78.357002  79.299500  79.299500   \n",
       "2972 2020-10-22  79.250000  80.670998  78.874001  80.333000  80.333000   \n",
       "\n",
       "         volume  \n",
       "0     144275580  \n",
       "1     195364440  \n",
       "2     256750992  \n",
       "3     179600220  \n",
       "4     143883972  \n",
       "...         ...  \n",
       "2968   34194000  \n",
       "2969   29734000  \n",
       "2970   41670000  \n",
       "2971   60322000  \n",
       "2972   30512000  \n",
       "\n",
       "[2973 rows x 7 columns]"
      ]
     },
     "execution_count": 5,
     "metadata": {},
     "output_type": "execute_result"
    }
   ],
   "source": [
    "data_df"
   ]
  },
  {
   "cell_type": "code",
   "execution_count": 6,
   "id": "0f02b250-1ce0-48fe-a527-cb22efd7041c",
   "metadata": {
    "tags": []
   },
   "outputs": [],
   "source": [
    "data_clean = data_df.copy()"
   ]
  },
  {
   "cell_type": "code",
   "execution_count": 7,
   "id": "de61aa93-5c51-4821-9e6e-219c9a4f97e7",
   "metadata": {
    "tags": []
   },
   "outputs": [
    {
     "data": {
      "text/html": [
       "<div>\n",
       "<style scoped>\n",
       "    .dataframe tbody tr th:only-of-type {\n",
       "        vertical-align: middle;\n",
       "    }\n",
       "\n",
       "    .dataframe tbody tr th {\n",
       "        vertical-align: top;\n",
       "    }\n",
       "\n",
       "    .dataframe thead th {\n",
       "        text-align: right;\n",
       "    }\n",
       "</style>\n",
       "<table border=\"1\" class=\"dataframe\">\n",
       "  <thead>\n",
       "    <tr style=\"text-align: right;\">\n",
       "      <th></th>\n",
       "      <th>date</th>\n",
       "      <th>open</th>\n",
       "      <th>high</th>\n",
       "      <th>low</th>\n",
       "      <th>close</th>\n",
       "      <th>adjcp</th>\n",
       "      <th>volume</th>\n",
       "    </tr>\n",
       "  </thead>\n",
       "  <tbody>\n",
       "    <tr>\n",
       "      <th>0</th>\n",
       "      <td>2009-01-02</td>\n",
       "      <td>7.722723</td>\n",
       "      <td>8.053554</td>\n",
       "      <td>7.645145</td>\n",
       "      <td>8.041041</td>\n",
       "      <td>8.041041</td>\n",
       "      <td>144275580</td>\n",
       "    </tr>\n",
       "    <tr>\n",
       "      <th>1</th>\n",
       "      <td>2009-01-05</td>\n",
       "      <td>8.033033</td>\n",
       "      <td>8.289289</td>\n",
       "      <td>7.882883</td>\n",
       "      <td>8.209459</td>\n",
       "      <td>8.209459</td>\n",
       "      <td>195364440</td>\n",
       "    </tr>\n",
       "    <tr>\n",
       "      <th>2</th>\n",
       "      <td>2009-01-06</td>\n",
       "      <td>8.332833</td>\n",
       "      <td>8.528529</td>\n",
       "      <td>8.167918</td>\n",
       "      <td>8.359860</td>\n",
       "      <td>8.359860</td>\n",
       "      <td>256750992</td>\n",
       "    </tr>\n",
       "    <tr>\n",
       "      <th>3</th>\n",
       "      <td>2009-01-07</td>\n",
       "      <td>8.216216</td>\n",
       "      <td>8.281031</td>\n",
       "      <td>7.976727</td>\n",
       "      <td>8.058308</td>\n",
       "      <td>8.058308</td>\n",
       "      <td>179600220</td>\n",
       "    </tr>\n",
       "    <tr>\n",
       "      <th>4</th>\n",
       "      <td>2009-01-08</td>\n",
       "      <td>7.964965</td>\n",
       "      <td>8.137888</td>\n",
       "      <td>7.941441</td>\n",
       "      <td>8.137888</td>\n",
       "      <td>8.137888</td>\n",
       "      <td>143883972</td>\n",
       "    </tr>\n",
       "    <tr>\n",
       "      <th>...</th>\n",
       "      <td>...</td>\n",
       "      <td>...</td>\n",
       "      <td>...</td>\n",
       "      <td>...</td>\n",
       "      <td>...</td>\n",
       "      <td>...</td>\n",
       "      <td>...</td>\n",
       "    </tr>\n",
       "    <tr>\n",
       "      <th>2968</th>\n",
       "      <td>2020-10-16</td>\n",
       "      <td>78.091499</td>\n",
       "      <td>78.885498</td>\n",
       "      <td>77.883003</td>\n",
       "      <td>78.385002</td>\n",
       "      <td>78.385002</td>\n",
       "      <td>34194000</td>\n",
       "    </tr>\n",
       "    <tr>\n",
       "      <th>2969</th>\n",
       "      <td>2020-10-19</td>\n",
       "      <td>78.796501</td>\n",
       "      <td>79.196503</td>\n",
       "      <td>76.146004</td>\n",
       "      <td>76.497498</td>\n",
       "      <td>76.497498</td>\n",
       "      <td>29734000</td>\n",
       "    </tr>\n",
       "    <tr>\n",
       "      <th>2970</th>\n",
       "      <td>2020-10-20</td>\n",
       "      <td>76.155502</td>\n",
       "      <td>78.692001</td>\n",
       "      <td>76.025002</td>\n",
       "      <td>77.554001</td>\n",
       "      <td>77.554001</td>\n",
       "      <td>41670000</td>\n",
       "    </tr>\n",
       "    <tr>\n",
       "      <th>2971</th>\n",
       "      <td>2020-10-21</td>\n",
       "      <td>78.492500</td>\n",
       "      <td>80.757004</td>\n",
       "      <td>78.357002</td>\n",
       "      <td>79.299500</td>\n",
       "      <td>79.299500</td>\n",
       "      <td>60322000</td>\n",
       "    </tr>\n",
       "    <tr>\n",
       "      <th>2972</th>\n",
       "      <td>2020-10-22</td>\n",
       "      <td>79.250000</td>\n",
       "      <td>80.670998</td>\n",
       "      <td>78.874001</td>\n",
       "      <td>80.333000</td>\n",
       "      <td>80.333000</td>\n",
       "      <td>30512000</td>\n",
       "    </tr>\n",
       "  </tbody>\n",
       "</table>\n",
       "<p>2973 rows × 7 columns</p>\n",
       "</div>"
      ],
      "text/plain": [
       "           date       open       high        low      close      adjcp   \n",
       "0    2009-01-02   7.722723   8.053554   7.645145   8.041041   8.041041  \\\n",
       "1    2009-01-05   8.033033   8.289289   7.882883   8.209459   8.209459   \n",
       "2    2009-01-06   8.332833   8.528529   8.167918   8.359860   8.359860   \n",
       "3    2009-01-07   8.216216   8.281031   7.976727   8.058308   8.058308   \n",
       "4    2009-01-08   7.964965   8.137888   7.941441   8.137888   8.137888   \n",
       "...         ...        ...        ...        ...        ...        ...   \n",
       "2968 2020-10-16  78.091499  78.885498  77.883003  78.385002  78.385002   \n",
       "2969 2020-10-19  78.796501  79.196503  76.146004  76.497498  76.497498   \n",
       "2970 2020-10-20  76.155502  78.692001  76.025002  77.554001  77.554001   \n",
       "2971 2020-10-21  78.492500  80.757004  78.357002  79.299500  79.299500   \n",
       "2972 2020-10-22  79.250000  80.670998  78.874001  80.333000  80.333000   \n",
       "\n",
       "         volume  \n",
       "0     144275580  \n",
       "1     195364440  \n",
       "2     256750992  \n",
       "3     179600220  \n",
       "4     143883972  \n",
       "...         ...  \n",
       "2968   34194000  \n",
       "2969   29734000  \n",
       "2970   41670000  \n",
       "2971   60322000  \n",
       "2972   30512000  \n",
       "\n",
       "[2973 rows x 7 columns]"
      ]
     },
     "execution_count": 7,
     "metadata": {},
     "output_type": "execute_result"
    }
   ],
   "source": [
    "data_clean"
   ]
  },
  {
   "cell_type": "code",
   "execution_count": 8,
   "id": "30075671-1095-4c97-a9ce-9e0d24869f8c",
   "metadata": {
    "tags": []
   },
   "outputs": [],
   "source": [
    "train = data_clean[(data_clean.date>='2009-01-01') & (data_clean.date<'2019-01-01')]\n",
    "# the index needs to start from 0\n",
    "train=train.reset_index(drop=True)\n",
    "train['macd'] = 1"
   ]
  },
  {
   "cell_type": "code",
   "execution_count": 9,
   "id": "b38fdd2e-ecc5-441b-9490-1d55cb05cb74",
   "metadata": {
    "collapsed": true,
    "jupyter": {
     "outputs_hidden": true
    },
    "tags": []
   },
   "outputs": [
    {
     "name": "stdout",
     "output_type": "stream",
     "text": [
      "here [0.12275287]\n",
      "previous_total_asset:100000\n",
      "end_total_asset:288684.80407815275\n",
      "total_reward:188684.80407815275\n",
      "total_cost:  8518.862409554784\n",
      "total trades:  2481\n",
      "Sharpe:  0.7342148538424985\n",
      "previous_total_asset:100000\n",
      "end_total_asset:263789.7094669216\n",
      "total_reward:163789.70946692157\n",
      "total_cost:  8092.2988565381465\n",
      "total trades:  2397\n",
      "Sharpe:  0.6710145789109384\n",
      "previous_total_asset:100000\n",
      "end_total_asset:192307.8236625258\n",
      "total_reward:92307.8236625258\n",
      "total_cost:  7233.764648317405\n",
      "total trades:  2315\n",
      "Sharpe:  0.6321378902289093\n",
      "previous_total_asset:100000\n",
      "end_total_asset:341230.68524431105\n",
      "total_reward:241230.68524431105\n",
      "total_cost:  8751.242151400173\n",
      "total trades:  2500\n",
      "Sharpe:  0.7281584808110155\n",
      "previous_total_asset:100000\n",
      "end_total_asset:568904.9441430037\n",
      "total_reward:468904.94414300367\n",
      "total_cost:  9467.505660714327\n",
      "total trades:  2514\n",
      "Sharpe:  0.8684785920765085\n"
     ]
    },
    {
     "ename": "KeyboardInterrupt",
     "evalue": "",
     "output_type": "error",
     "traceback": [
      "\u001b[0;31m---------------------------------------------------------------------------\u001b[0m",
      "\u001b[0;31mKeyboardInterrupt\u001b[0m                         Traceback (most recent call last)",
      "Cell \u001b[0;32mIn[9], line 4\u001b[0m\n\u001b[1;32m      2\u001b[0m \u001b[38;5;28mprint\u001b[39m(\u001b[38;5;124m\"\u001b[39m\u001b[38;5;124mhere\u001b[39m\u001b[38;5;124m\"\u001b[39m,env_train\u001b[38;5;241m.\u001b[39maction_space\u001b[38;5;241m.\u001b[39msample())\n\u001b[1;32m      3\u001b[0m model \u001b[38;5;241m=\u001b[39m RLModels(\u001b[38;5;124m'\u001b[39m\u001b[38;5;124ma2c\u001b[39m\u001b[38;5;124m'\u001b[39m, env_train)\n\u001b[0;32m----> 4\u001b[0m \u001b[43mmodel\u001b[49m\u001b[38;5;241;43m.\u001b[39;49m\u001b[43mtrain\u001b[49m\u001b[43m(\u001b[49m\u001b[43mtotal_timesteps\u001b[49m\u001b[38;5;241;43m=\u001b[39;49m\u001b[38;5;241;43m100000\u001b[39;49m\u001b[43m)\u001b[49m\n\u001b[1;32m      5\u001b[0m model\u001b[38;5;241m.\u001b[39msave(\u001b[38;5;124m'\u001b[39m\u001b[38;5;124mAAPL_ppo_100k\u001b[39m\u001b[38;5;124m'\u001b[39m)\n",
      "File \u001b[0;32m/src/notebooks/../src/models/models.py:11\u001b[0m, in \u001b[0;36mRLModels.train\u001b[0;34m(self, total_timesteps)\u001b[0m\n\u001b[1;32m     10\u001b[0m \u001b[38;5;28;01mdef\u001b[39;00m \u001b[38;5;21mtrain\u001b[39m(\u001b[38;5;28mself\u001b[39m, total_timesteps):\n\u001b[0;32m---> 11\u001b[0m     \u001b[38;5;28;43mself\u001b[39;49m\u001b[38;5;241;43m.\u001b[39;49m\u001b[43mmodel\u001b[49m\u001b[38;5;241;43m.\u001b[39;49m\u001b[43mlearn\u001b[49m\u001b[43m(\u001b[49m\u001b[43mtotal_timesteps\u001b[49m\u001b[38;5;241;43m=\u001b[39;49m\u001b[43mtotal_timesteps\u001b[49m\u001b[43m)\u001b[49m\n",
      "File \u001b[0;32m/opt/conda/envs/py39/lib/python3.9/site-packages/stable_baselines3/a2c/a2c.py:194\u001b[0m, in \u001b[0;36mA2C.learn\u001b[0;34m(self, total_timesteps, callback, log_interval, tb_log_name, reset_num_timesteps, progress_bar)\u001b[0m\n\u001b[1;32m    185\u001b[0m \u001b[38;5;28;01mdef\u001b[39;00m \u001b[38;5;21mlearn\u001b[39m(\n\u001b[1;32m    186\u001b[0m     \u001b[38;5;28mself\u001b[39m: SelfA2C,\n\u001b[1;32m    187\u001b[0m     total_timesteps: \u001b[38;5;28mint\u001b[39m,\n\u001b[0;32m   (...)\u001b[0m\n\u001b[1;32m    192\u001b[0m     progress_bar: \u001b[38;5;28mbool\u001b[39m \u001b[38;5;241m=\u001b[39m \u001b[38;5;28;01mFalse\u001b[39;00m,\n\u001b[1;32m    193\u001b[0m ) \u001b[38;5;241m-\u001b[39m\u001b[38;5;241m>\u001b[39m SelfA2C:\n\u001b[0;32m--> 194\u001b[0m     \u001b[38;5;28;01mreturn\u001b[39;00m \u001b[38;5;28;43msuper\u001b[39;49m\u001b[43m(\u001b[49m\u001b[43m)\u001b[49m\u001b[38;5;241;43m.\u001b[39;49m\u001b[43mlearn\u001b[49m\u001b[43m(\u001b[49m\n\u001b[1;32m    195\u001b[0m \u001b[43m        \u001b[49m\u001b[43mtotal_timesteps\u001b[49m\u001b[38;5;241;43m=\u001b[39;49m\u001b[43mtotal_timesteps\u001b[49m\u001b[43m,\u001b[49m\n\u001b[1;32m    196\u001b[0m \u001b[43m        \u001b[49m\u001b[43mcallback\u001b[49m\u001b[38;5;241;43m=\u001b[39;49m\u001b[43mcallback\u001b[49m\u001b[43m,\u001b[49m\n\u001b[1;32m    197\u001b[0m \u001b[43m        \u001b[49m\u001b[43mlog_interval\u001b[49m\u001b[38;5;241;43m=\u001b[39;49m\u001b[43mlog_interval\u001b[49m\u001b[43m,\u001b[49m\n\u001b[1;32m    198\u001b[0m \u001b[43m        \u001b[49m\u001b[43mtb_log_name\u001b[49m\u001b[38;5;241;43m=\u001b[39;49m\u001b[43mtb_log_name\u001b[49m\u001b[43m,\u001b[49m\n\u001b[1;32m    199\u001b[0m \u001b[43m        \u001b[49m\u001b[43mreset_num_timesteps\u001b[49m\u001b[38;5;241;43m=\u001b[39;49m\u001b[43mreset_num_timesteps\u001b[49m\u001b[43m,\u001b[49m\n\u001b[1;32m    200\u001b[0m \u001b[43m        \u001b[49m\u001b[43mprogress_bar\u001b[49m\u001b[38;5;241;43m=\u001b[39;49m\u001b[43mprogress_bar\u001b[49m\u001b[43m,\u001b[49m\n\u001b[1;32m    201\u001b[0m \u001b[43m    \u001b[49m\u001b[43m)\u001b[49m\n",
      "File \u001b[0;32m/opt/conda/envs/py39/lib/python3.9/site-packages/stable_baselines3/common/on_policy_algorithm.py:271\u001b[0m, in \u001b[0;36mOnPolicyAlgorithm.learn\u001b[0;34m(self, total_timesteps, callback, log_interval, tb_log_name, reset_num_timesteps, progress_bar)\u001b[0m\n\u001b[1;32m    268\u001b[0m         \u001b[38;5;28mself\u001b[39m\u001b[38;5;241m.\u001b[39mlogger\u001b[38;5;241m.\u001b[39mrecord(\u001b[38;5;124m\"\u001b[39m\u001b[38;5;124mtime/total_timesteps\u001b[39m\u001b[38;5;124m\"\u001b[39m, \u001b[38;5;28mself\u001b[39m\u001b[38;5;241m.\u001b[39mnum_timesteps, exclude\u001b[38;5;241m=\u001b[39m\u001b[38;5;124m\"\u001b[39m\u001b[38;5;124mtensorboard\u001b[39m\u001b[38;5;124m\"\u001b[39m)\n\u001b[1;32m    269\u001b[0m         \u001b[38;5;28mself\u001b[39m\u001b[38;5;241m.\u001b[39mlogger\u001b[38;5;241m.\u001b[39mdump(step\u001b[38;5;241m=\u001b[39m\u001b[38;5;28mself\u001b[39m\u001b[38;5;241m.\u001b[39mnum_timesteps)\n\u001b[0;32m--> 271\u001b[0m     \u001b[38;5;28;43mself\u001b[39;49m\u001b[38;5;241;43m.\u001b[39;49m\u001b[43mtrain\u001b[49m\u001b[43m(\u001b[49m\u001b[43m)\u001b[49m\n\u001b[1;32m    273\u001b[0m callback\u001b[38;5;241m.\u001b[39mon_training_end()\n\u001b[1;32m    275\u001b[0m \u001b[38;5;28;01mreturn\u001b[39;00m \u001b[38;5;28mself\u001b[39m\n",
      "File \u001b[0;32m/opt/conda/envs/py39/lib/python3.9/site-packages/stable_baselines3/a2c/a2c.py:168\u001b[0m, in \u001b[0;36mA2C.train\u001b[0;34m(self)\u001b[0m\n\u001b[1;32m    166\u001b[0m \u001b[38;5;66;03m# Optimization step\u001b[39;00m\n\u001b[1;32m    167\u001b[0m \u001b[38;5;28mself\u001b[39m\u001b[38;5;241m.\u001b[39mpolicy\u001b[38;5;241m.\u001b[39moptimizer\u001b[38;5;241m.\u001b[39mzero_grad()\n\u001b[0;32m--> 168\u001b[0m \u001b[43mloss\u001b[49m\u001b[38;5;241;43m.\u001b[39;49m\u001b[43mbackward\u001b[49m\u001b[43m(\u001b[49m\u001b[43m)\u001b[49m\n\u001b[1;32m    170\u001b[0m \u001b[38;5;66;03m# Clip grad norm\u001b[39;00m\n\u001b[1;32m    171\u001b[0m th\u001b[38;5;241m.\u001b[39mnn\u001b[38;5;241m.\u001b[39mutils\u001b[38;5;241m.\u001b[39mclip_grad_norm_(\u001b[38;5;28mself\u001b[39m\u001b[38;5;241m.\u001b[39mpolicy\u001b[38;5;241m.\u001b[39mparameters(), \u001b[38;5;28mself\u001b[39m\u001b[38;5;241m.\u001b[39mmax_grad_norm)\n",
      "File \u001b[0;32m/opt/conda/envs/py39/lib/python3.9/site-packages/torch/_tensor.py:487\u001b[0m, in \u001b[0;36mTensor.backward\u001b[0;34m(self, gradient, retain_graph, create_graph, inputs)\u001b[0m\n\u001b[1;32m    477\u001b[0m \u001b[38;5;28;01mif\u001b[39;00m has_torch_function_unary(\u001b[38;5;28mself\u001b[39m):\n\u001b[1;32m    478\u001b[0m     \u001b[38;5;28;01mreturn\u001b[39;00m handle_torch_function(\n\u001b[1;32m    479\u001b[0m         Tensor\u001b[38;5;241m.\u001b[39mbackward,\n\u001b[1;32m    480\u001b[0m         (\u001b[38;5;28mself\u001b[39m,),\n\u001b[0;32m   (...)\u001b[0m\n\u001b[1;32m    485\u001b[0m         inputs\u001b[38;5;241m=\u001b[39minputs,\n\u001b[1;32m    486\u001b[0m     )\n\u001b[0;32m--> 487\u001b[0m \u001b[43mtorch\u001b[49m\u001b[38;5;241;43m.\u001b[39;49m\u001b[43mautograd\u001b[49m\u001b[38;5;241;43m.\u001b[39;49m\u001b[43mbackward\u001b[49m\u001b[43m(\u001b[49m\n\u001b[1;32m    488\u001b[0m \u001b[43m    \u001b[49m\u001b[38;5;28;43mself\u001b[39;49m\u001b[43m,\u001b[49m\u001b[43m \u001b[49m\u001b[43mgradient\u001b[49m\u001b[43m,\u001b[49m\u001b[43m \u001b[49m\u001b[43mretain_graph\u001b[49m\u001b[43m,\u001b[49m\u001b[43m \u001b[49m\u001b[43mcreate_graph\u001b[49m\u001b[43m,\u001b[49m\u001b[43m \u001b[49m\u001b[43minputs\u001b[49m\u001b[38;5;241;43m=\u001b[39;49m\u001b[43minputs\u001b[49m\n\u001b[1;32m    489\u001b[0m \u001b[43m\u001b[49m\u001b[43m)\u001b[49m\n",
      "File \u001b[0;32m/opt/conda/envs/py39/lib/python3.9/site-packages/torch/autograd/__init__.py:200\u001b[0m, in \u001b[0;36mbackward\u001b[0;34m(tensors, grad_tensors, retain_graph, create_graph, grad_variables, inputs)\u001b[0m\n\u001b[1;32m    195\u001b[0m     retain_graph \u001b[38;5;241m=\u001b[39m create_graph\n\u001b[1;32m    197\u001b[0m \u001b[38;5;66;03m# The reason we repeat same the comment below is that\u001b[39;00m\n\u001b[1;32m    198\u001b[0m \u001b[38;5;66;03m# some Python versions print out the first line of a multi-line function\u001b[39;00m\n\u001b[1;32m    199\u001b[0m \u001b[38;5;66;03m# calls in the traceback and some print out the last line\u001b[39;00m\n\u001b[0;32m--> 200\u001b[0m \u001b[43mVariable\u001b[49m\u001b[38;5;241;43m.\u001b[39;49m\u001b[43m_execution_engine\u001b[49m\u001b[38;5;241;43m.\u001b[39;49m\u001b[43mrun_backward\u001b[49m\u001b[43m(\u001b[49m\u001b[43m  \u001b[49m\u001b[38;5;66;43;03m# Calls into the C++ engine to run the backward pass\u001b[39;49;00m\n\u001b[1;32m    201\u001b[0m \u001b[43m    \u001b[49m\u001b[43mtensors\u001b[49m\u001b[43m,\u001b[49m\u001b[43m \u001b[49m\u001b[43mgrad_tensors_\u001b[49m\u001b[43m,\u001b[49m\u001b[43m \u001b[49m\u001b[43mretain_graph\u001b[49m\u001b[43m,\u001b[49m\u001b[43m \u001b[49m\u001b[43mcreate_graph\u001b[49m\u001b[43m,\u001b[49m\u001b[43m \u001b[49m\u001b[43minputs\u001b[49m\u001b[43m,\u001b[49m\n\u001b[1;32m    202\u001b[0m \u001b[43m    \u001b[49m\u001b[43mallow_unreachable\u001b[49m\u001b[38;5;241;43m=\u001b[39;49m\u001b[38;5;28;43;01mTrue\u001b[39;49;00m\u001b[43m,\u001b[49m\u001b[43m \u001b[49m\u001b[43maccumulate_grad\u001b[49m\u001b[38;5;241;43m=\u001b[39;49m\u001b[38;5;28;43;01mTrue\u001b[39;49;00m\u001b[43m)\u001b[49m\n",
      "\u001b[0;31mKeyboardInterrupt\u001b[0m: "
     ]
    }
   ],
   "source": [
    "env_train = DummyVecEnv([lambda: SingleStockEnv(train, feat_list = ['adjcp', 'macd'])])\n",
    "print(\"here\",env_train.action_space.sample())\n",
    "model = RLModels('a2c', env_train)\n",
    "model.train(total_timesteps=100000)\n",
    "model.save('AAPL_ppo_100k')\n"
   ]
  },
  {
   "cell_type": "code",
   "execution_count": 10,
   "id": "be527011-073c-4759-81b2-917fa4aa4125",
   "metadata": {
    "tags": []
   },
   "outputs": [],
   "source": [
    "test = data_clean[(data_clean.date>='2019-01-01') ]\n",
    "# the index needs to start from 0\n",
    "test=test.reset_index(drop=True)"
   ]
  },
  {
   "cell_type": "code",
   "execution_count": 12,
   "id": "ab7448fb-1093-4d47-9281-df4d6c7439ef",
   "metadata": {
    "tags": []
   },
   "outputs": [
    {
     "ename": "NameError",
     "evalue": "name 'model_a2c' is not defined",
     "output_type": "error",
     "traceback": [
      "\u001b[0;31m---------------------------------------------------------------------------\u001b[0m",
      "\u001b[0;31mNameError\u001b[0m                                 Traceback (most recent call last)",
      "Cell \u001b[0;32mIn[12], line 1\u001b[0m\n\u001b[0;32m----> 1\u001b[0m model \u001b[38;5;241m=\u001b[39m \u001b[43mmodel_a2c\u001b[49m\n\u001b[1;32m      2\u001b[0m env_test \u001b[38;5;241m=\u001b[39m DummyVecEnv([\u001b[38;5;28;01mlambda\u001b[39;00m: SingleStockEnv(test, feat_list \u001b[38;5;241m=\u001b[39m [\u001b[38;5;124m'\u001b[39m\u001b[38;5;124madjcp\u001b[39m\u001b[38;5;124m'\u001b[39m, \u001b[38;5;124m'\u001b[39m\u001b[38;5;124mmacd\u001b[39m\u001b[38;5;124m'\u001b[39m])])\n\u001b[1;32m      3\u001b[0m obs_test \u001b[38;5;241m=\u001b[39m env_test\u001b[38;5;241m.\u001b[39mreset()\n",
      "\u001b[0;31mNameError\u001b[0m: name 'model_a2c' is not defined"
     ]
    }
   ],
   "source": [
    "model = model_a2c\n",
    "env_test = DummyVecEnv([lambda: SingleStockEnv(test, feat_list = ['adjcp', 'macd'])])\n",
    "obs_test = env_test.reset()\n",
    "print(\"==============Model Prediction===========\")\n",
    "for i in range(len(test.index.unique())):\n",
    "    action, _states = model.predict(obs_test)\n",
    "    obs_test, rewards, dones, info = env_test.step(action)\n",
    "    env_test.render()"
   ]
  },
  {
   "cell_type": "code",
   "execution_count": 126,
   "id": "7ddb8c20-0d19-431b-b4af-662153214295",
   "metadata": {
    "tags": []
   },
   "outputs": [],
   "source": [
    "def get_DRL_sharpe():\n",
    "    df_total_value=pd.read_csv('account_value.csv',index_col=0)\n",
    "    df_total_value.columns = ['account_value']\n",
    "    df_total_value['daily_return']=df_total_value.pct_change(1)\n",
    "    sharpe = (252**0.5)*df_total_value['daily_return'].mean()/ \\\n",
    "    df_total_value['daily_return'].std()\n",
    "    \n",
    "    annual_return = ((df_total_value['daily_return'].mean()+1)**252-1)*100\n",
    "    print(\"annual return: \", annual_return)\n",
    "    print(\"sharpe ratio: \", sharpe)\n",
    "    return df_total_value"
   ]
  },
  {
   "cell_type": "code",
   "execution_count": 133,
   "id": "b4a93efe-b141-493c-ab16-200c381e31e9",
   "metadata": {
    "tags": []
   },
   "outputs": [],
   "source": [
    "df_total_value=pd.read_csv('account_value.csv',index_col=0)\n",
    "df_total_value.columns = ['account_value']\n",
    "df_total_value['daily_return']=df_total_value.pct_change(1)"
   ]
  },
  {
   "cell_type": "code",
   "execution_count": 137,
   "id": "a139022c-66b8-4a9a-b195-bf8906d1c849",
   "metadata": {
    "tags": []
   },
   "outputs": [
    {
     "data": {
      "text/plain": [
       "0.001099399277741701"
      ]
     },
     "execution_count": 137,
     "metadata": {},
     "output_type": "execute_result"
    }
   ],
   "source": [
    "df_total_value['daily_return'].mean()"
   ]
  },
  {
   "cell_type": "code",
   "execution_count": 127,
   "id": "fe817615-98fb-4a83-87cd-677f731c5d5f",
   "metadata": {
    "tags": []
   },
   "outputs": [],
   "source": [
    "\n",
    "\n",
    "def get_buy_and_hold_sharpe(test):\n",
    "    test['daily_return']=test['adjcp'].pct_change(1)\n",
    "    sharpe = (252**0.5)*test['daily_return'].mean()/ \\\n",
    "    test['daily_return'].std()\n",
    "    annual_return = ((test['daily_return'].mean()+1)**252-1)*100\n",
    "    print(\"annual return: \", annual_return)\n",
    "\n",
    "    print(\"sharpe ratio: \", sharpe)\n",
    "    #return sharpe\n",
    "\n"
   ]
  },
  {
   "cell_type": "code",
   "execution_count": 128,
   "id": "c20b7307-0733-45e3-9f48-e35be54f2661",
   "metadata": {
    "tags": []
   },
   "outputs": [
    {
     "name": "stdout",
     "output_type": "stream",
     "text": [
      "annual return:  31.902975995593685\n",
      "sharpe ratio:  0.8650235998059558\n"
     ]
    }
   ],
   "source": [
    "df_total_value=get_DRL_sharpe()"
   ]
  },
  {
   "cell_type": "code",
   "execution_count": 129,
   "id": "9cbb3651-53ce-414b-b741-7e4d8de73e6d",
   "metadata": {
    "tags": []
   },
   "outputs": [
    {
     "name": "stdout",
     "output_type": "stream",
     "text": [
      "annual return:  32.96312299591686\n",
      "sharpe ratio:  0.8814613447586216\n"
     ]
    }
   ],
   "source": [
    "get_buy_and_hold_sharpe(test)"
   ]
  },
  {
   "cell_type": "code",
   "execution_count": 130,
   "id": "bc44aae3-627b-40ed-af66-65ac5059fd63",
   "metadata": {
    "tags": []
   },
   "outputs": [],
   "source": [
    "DRL_cumulative_return = (df_total_value.account_value.pct_change(1)+1).cumprod()-1"
   ]
  },
  {
   "cell_type": "code",
   "execution_count": 131,
   "id": "ac42c638-7e13-4b07-8dfc-186af4d2a7de",
   "metadata": {
    "tags": []
   },
   "outputs": [],
   "source": [
    "buy_and_hold_cumulative_return = (test.adjcp.pct_change(1)+1).cumprod()-1"
   ]
  },
  {
   "cell_type": "code",
   "execution_count": 132,
   "id": "5394404d-692b-4c1d-8a2d-c34e259d52ed",
   "metadata": {
    "tags": []
   },
   "outputs": [
    {
     "data": {
      "image/png": "[encoded data removed]",
      "text/plain": [
       "<Figure size 1200x800 with 1 Axes>"
      ]
     },
     "metadata": {},
     "output_type": "display_data"
    }
   ],
   "source": [
    "\n",
    "\n",
    "%matplotlib inline\n",
    "fig, ax = plt.subplots(figsize=(12, 8))\n",
    "\n",
    "plt.plot(test.datadate, DRL_cumulative_return, color='red',label = \"DRL\")\n",
    "plt.plot(test.datadate, buy_and_hold_cumulative_return, label = \"Buy & Hold\")\n",
    "plt.title(\"Cumulative Return for AAPL with Transaction Cost\",size= 18)\n",
    "plt.legend()\n",
    "plt.rc('legend',fontsize=15)\n",
    "plt.rc('xtick', labelsize=15)\n",
    "plt.rc('ytick', labelsize=15)\n",
    "\n"
   ]
  },
  {
   "cell_type": "code",
   "execution_count": null,
   "id": "25995ba9-cc00-4ed7-9f69-5d544ea7eaca",
   "metadata": {},
   "outputs": [],
   "source": []
  }
 ],
 "metadata": {
  "kernelspec": {
   "display_name": "py39",
   "language": "python",
   "name": "py39"
  },
  "language_info": {
   "codemirror_mode": {
    "name": "ipython",
    "version": 3
   },
   "file_extension": ".py",
   "mimetype": "text/x-python",
   "name": "python",
   "nbconvert_exporter": "python",
   "pygments_lexer": "ipython3",
   "version": "3.9.16"
  }
 },
 "nbformat": 4,
 "nbformat_minor": 5
}
